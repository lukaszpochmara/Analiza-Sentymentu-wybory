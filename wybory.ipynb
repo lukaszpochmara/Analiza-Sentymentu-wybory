{
 "cells": [
  {
   "cell_type": "code",
   "execution_count": null,
   "id": "27ea9a7d",
   "metadata": {},
   "outputs": [],
   "source": [
    "import pandas as pd\n",
    "from transformers import AutoTokenizer, AutoModelForSequenceClassification\n",
    "import torch\n",
    "import torch.nn.functional as F"
   ]
  },
  {
   "cell_type": "code",
   "execution_count": null,
   "id": "ad89ff41",
   "metadata": {},
   "outputs": [],
   "source": [
    "! yt-dlp \"ytsearch1000:debata prezydencka after:2024-05-07\" --print \"%(upload_date)s ||| %(id)s ||| %(title)s\" > debata_filmy.txt\n"
   ]
  },
  {
   "cell_type": "code",
   "execution_count": null,
   "id": "fa0cfcd4",
   "metadata": {},
   "outputs": [],
   "source": [
    "from youtube_comment_downloader import YoutubeCommentDownloader\n",
    "import pandas as pd\n",
    "\n",
    "downloader = YoutubeCommentDownloader()\n",
    "plik_wejsciowy = \"debata_filmy.txt\"\n",
    "wszystkie_komentarze = []\n",
    "\n",
    "with open(plik_wejsciowy, encoding=\"utf-8\") as f:\n",
    "    for linia in f:\n",
    "        try:\n",
    "            _, video_id, _ = linia.strip().split(\" ||| \")\n",
    "            print(f\"Pobieram komentarze dla: {video_id}\")\n",
    "            url = f\"https://www.youtube.com/watch?v={video_id}\"\n",
    "\n",
    "            for komentarz in downloader.get_comments_from_url(url, sort_by=0):\n",
    "                wszystkie_komentarze.append({\n",
    "                    \"video_id\": video_id,\n",
    "                    \"time\": komentarz[\"time\"],\n",
    "                    \"author\": komentarz[\"author\"],\n",
    "                    \"text\": komentarz[\"text\"]\n",
    "                })\n",
    "\n",
    "        except Exception as e:\n",
    "            print(f\"Błąd przy {linia.strip()}: {e}\")\n",
    "\n",
    "# Zapisz do pliku CSV\n",
    "df = pd.DataFrame(wszystkie_komentarze)\n",
    "df.to_csv(\"komentarze_debaty.csv\", index=False, encoding=\"utf-8-sig\")\n",
    "print(\"✅ Gotowe! Komentarze zapisane do komentarze_debaty.csv\")\n"
   ]
  },
  {
   "cell_type": "code",
   "execution_count": null,
   "id": "3d617636",
   "metadata": {},
   "outputs": [
    {
     "name": "stdout",
     "output_type": "stream",
     "text": [
      "Index(['time', 'author', 'text'], dtype='object')\n"
     ]
    }
   ],
   "source": [
    "df = pd.read_csv(\"komentarze_debaty.csv\")"
   ]
  }
 ],
 "metadata": {
  "language_info": {
   "name": "python"
  }
 },
 "nbformat": 4,
 "nbformat_minor": 5
}
